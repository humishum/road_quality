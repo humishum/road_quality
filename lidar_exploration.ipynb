{
  "cells": [
    {
      "cell_type": "code",
      "execution_count": 2,
      "metadata": {},
      "outputs": [],
      "source": [
        "\n",
        "import os\n",
        "from typing import List, Dict, Tuple, Optional, Any\n",
        "\n",
        "import numpy as np\n",
        "import tensorflow as tf\n",
        "\n",
        "from waymo_open_dataset import dataset_pb2\n",
        "from waymo_open_dataset.protos import scenario_pb2\n",
        "from waymo_open_dataset.protos import compressed_lidar_pb2\n",
        "from waymo_open_dataset.utils import womd_lidar_utils\n",
        "     "
      ]
    },
    {
      "cell_type": "code",
      "execution_count": null,
      "metadata": {},
      "outputs": [
        {
          "name": "stderr",
          "output_type": "stream",
          "text": [
            "2025-10-03 17:55:28.232281: I tensorflow/compiler/xla/stream_executor/cuda/cuda_gpu_executor.cc:995] successful NUMA node read from SysFS had negative value (-1), but there must be at least one NUMA node, so returning NUMA node zero. See more at https://github.com/torvalds/linux/blob/v6.0/Documentation/ABI/testing/sysfs-bus-pci#L344-L355\n",
            "2025-10-03 17:55:28.260447: W tensorflow/core/common_runtime/gpu/gpu_device.cc:1960] Cannot dlopen some GPU libraries. Please make sure the missing libraries mentioned above are installed properly if you would like to use GPU. Follow the guide at https://www.tensorflow.org/install/gpu for how to download and setup the required libraries for your platform.\n",
            "Skipping registering GPU devices...\n"
          ]
        },
        {
          "ename": "DecodeError",
          "evalue": "Error parsing message",
          "output_type": "error",
          "traceback": [
            "\u001b[31m---------------------------------------------------------------------------\u001b[39m",
            "\u001b[31mDecodeError\u001b[39m                               Traceback (most recent call last)",
            "\u001b[36mCell\u001b[39m\u001b[36m \u001b[39m\u001b[32mIn[3]\u001b[39m\u001b[32m, line 8\u001b[39m\n\u001b[32m      5\u001b[39m   \u001b[38;5;28;01mreturn\u001b[39;00m scenario_pb2.Scenario.FromString(data.numpy())\n\u001b[32m      7\u001b[39m WOMD_FILE = \u001b[33m'\u001b[39m\u001b[33mdata/segment-10017090168044687777_6380_000_6400_000_with_camera_labels.tfrecord\u001b[39m\u001b[33m'\u001b[39m\n\u001b[32m----> \u001b[39m\u001b[32m8\u001b[39m womd_original_scenario = \u001b[43m_load_scenario_data\u001b[49m\u001b[43m(\u001b[49m\u001b[43mWOMD_FILE\u001b[49m\u001b[43m)\u001b[49m\n\u001b[32m      9\u001b[39m \u001b[38;5;28mprint\u001b[39m(womd_original_scenario.scenario_id)\n",
            "\u001b[36mCell\u001b[39m\u001b[36m \u001b[39m\u001b[32mIn[3]\u001b[39m\u001b[32m, line 5\u001b[39m, in \u001b[36m_load_scenario_data\u001b[39m\u001b[34m(tfrecord_file)\u001b[39m\n\u001b[32m      3\u001b[39m dataset = tf.data.TFRecordDataset(tfrecord_file, compression_type=\u001b[33m'\u001b[39m\u001b[33m'\u001b[39m)\n\u001b[32m      4\u001b[39m data = \u001b[38;5;28mnext\u001b[39m(\u001b[38;5;28miter\u001b[39m(dataset))\n\u001b[32m----> \u001b[39m\u001b[32m5\u001b[39m \u001b[38;5;28;01mreturn\u001b[39;00m \u001b[43mscenario_pb2\u001b[49m\u001b[43m.\u001b[49m\u001b[43mScenario\u001b[49m\u001b[43m.\u001b[49m\u001b[43mFromString\u001b[49m\u001b[43m(\u001b[49m\u001b[43mdata\u001b[49m\u001b[43m.\u001b[49m\u001b[43mnumpy\u001b[49m\u001b[43m(\u001b[49m\u001b[43m)\u001b[49m\u001b[43m)\u001b[49m\n",
            "\u001b[31mDecodeError\u001b[39m: Error parsing message"
          ]
        }
      ],
      "source": [
        "def _load_scenario_data(tfrecord_file: str) -> scenario_pb2.Scenario:\n",
        "  \"\"\"Load a scenario proto from a tfrecord dataset file.\"\"\"\n",
        "  dataset = tf.data.TFRecordDataset(tfrecord_file, compression_type='')\n",
        "  data = next(iter(dataset))\n",
        "  return scenario_pb2.Scenario.FromString(data.numpy())\n",
        "\n",
        "WOMD_FILE = 'data/segment-10017090168044687777_6380_000_6400_000_with_camera_labels.tfrecord'\n",
        "womd_original_scenario = _load_scenario_data(WOMD_FILE)\n",
        "print(womd_original_scenario.scenario_id)"
      ]
    },
    {
      "cell_type": "markdown",
      "metadata": {},
      "source": []
    },
    {
      "cell_type": "code",
      "execution_count": 4,
      "metadata": {},
      "outputs": [],
      "source": [
        "import zlib\n",
        "import numpy as np\n",
        "import tensorflow as tf\n",
        "\n",
        "from waymo_open_dataset import dataset_pb2 as _dataset_pb2\n",
        "from waymo_open_dataset.protos import scenario_pb2\n",
        "from waymo_open_dataset.utils import frame_utils"
      ]
    },
    {
      "cell_type": "code",
      "execution_count": 8,
      "metadata": {},
      "outputs": [],
      "source": [
        "\n",
        "def scenario_to_first_frame(path):\n",
        "    dataset = tf.data.TFRecordDataset(path, compression_type='')\n",
        "    raw = next(iter(dataset))\n",
        "    scenario = scenario_pb2.Scenario()\n",
        "    dir(scenario)\n",
        "    scenario.ParseFromString(bytes(raw.numpy()))\n",
        "    \n",
        "    # LiDAR data lives in scenario.lidar_data (list, one per timestamp).\n",
        "    # Take the first lidar_data entry:\n",
        "    lidar_record = scenario.lidar_data[0].lidar_points_compressed\n",
        "\n",
        "    # Decompress\n",
        "    frame_bytes = zlib.decompress(lidar_record)\n",
        "    frame = _dataset_pb2.Frame()\n",
        "    frame.ParseFromString(frame_bytes)\n",
        "    return frame"
      ]
    },
    {
      "cell_type": "code",
      "execution_count": 9,
      "metadata": {},
      "outputs": [
        {
          "ename": "DecodeError",
          "evalue": "Error parsing message",
          "output_type": "error",
          "traceback": [
            "\u001b[31m---------------------------------------------------------------------------\u001b[39m",
            "\u001b[31mDecodeError\u001b[39m                               Traceback (most recent call last)",
            "\u001b[36mCell\u001b[39m\u001b[36m \u001b[39m\u001b[32mIn[9]\u001b[39m\u001b[32m, line 1\u001b[39m\n\u001b[32m----> \u001b[39m\u001b[32m1\u001b[39m frame = \u001b[43mscenario_to_first_frame\u001b[49m\u001b[43m(\u001b[49m\u001b[43mWOMD_FILE\u001b[49m\u001b[43m)\u001b[49m\n",
            "\u001b[36mCell\u001b[39m\u001b[36m \u001b[39m\u001b[32mIn[8]\u001b[39m\u001b[32m, line 6\u001b[39m, in \u001b[36mscenario_to_first_frame\u001b[39m\u001b[34m(path)\u001b[39m\n\u001b[32m      4\u001b[39m scenario = scenario_pb2.Scenario()\n\u001b[32m      5\u001b[39m \u001b[38;5;28mdir\u001b[39m(scenario)\n\u001b[32m----> \u001b[39m\u001b[32m6\u001b[39m \u001b[43mscenario\u001b[49m\u001b[43m.\u001b[49m\u001b[43mParseFromString\u001b[49m\u001b[43m(\u001b[49m\u001b[38;5;28;43mbytes\u001b[39;49m\u001b[43m(\u001b[49m\u001b[43mraw\u001b[49m\u001b[43m.\u001b[49m\u001b[43mnumpy\u001b[49m\u001b[43m(\u001b[49m\u001b[43m)\u001b[49m\u001b[43m)\u001b[49m\u001b[43m)\u001b[49m\n\u001b[32m      8\u001b[39m \u001b[38;5;66;03m# LiDAR data lives in scenario.lidar_data (list, one per timestamp).\u001b[39;00m\n\u001b[32m      9\u001b[39m \u001b[38;5;66;03m# Take the first lidar_data entry:\u001b[39;00m\n\u001b[32m     10\u001b[39m lidar_record = scenario.lidar_data[\u001b[32m0\u001b[39m].lidar_points_compressed\n",
            "\u001b[31mDecodeError\u001b[39m: Error parsing message"
          ]
        }
      ],
      "source": [
        "frame = scenario_to_first_frame(WOMD_FILE)"
      ]
    },
    {
      "cell_type": "code",
      "execution_count": 14,
      "metadata": {},
      "outputs": [
        {
          "data": {
            "text/plain": [
              "tensorflow.python.framework.ops.EagerTensor"
            ]
          },
          "execution_count": 14,
          "metadata": {},
          "output_type": "execute_result"
        }
      ],
      "source": [
        "type(raw)"
      ]
    },
    {
      "cell_type": "code",
      "execution_count": 20,
      "metadata": {},
      "outputs": [],
      "source": [
        "dataset = tf.data.TFRecordDataset('data/training_20s.tfrecord-00000-of-01000', compression_type='')\n",
        "scenario_data = []\n",
        "for data in dataset:\n",
        "    proto_string = data.numpy()\n",
        "    proto = scenario_pb2.Scenario()\n",
        "    proto.ParseFromString(proto_string)\n",
        "    scenario_data.append(proto)\n"
      ]
    },
    {
      "cell_type": "code",
      "execution_count": 28,
      "metadata": {},
      "outputs": [
        {
          "ename": "AttributeError",
          "evalue": "timestamp_micros",
          "output_type": "error",
          "traceback": [
            "\u001b[31m---------------------------------------------------------------------------\u001b[39m",
            "\u001b[31mAttributeError\u001b[39m                            Traceback (most recent call last)",
            "\u001b[36mCell\u001b[39m\u001b[36m \u001b[39m\u001b[32mIn[28]\u001b[39m\u001b[32m, line 1\u001b[39m\n\u001b[32m----> \u001b[39m\u001b[32m1\u001b[39m \u001b[38;5;28mdir\u001b[39m(\u001b[43mscenario_data\u001b[49m\u001b[43m[\u001b[49m\u001b[32;43m0\u001b[39;49m\u001b[43m]\u001b[49m\u001b[43m.\u001b[49m\u001b[43mtimestamp_micros\u001b[49m)\n",
            "\u001b[31mAttributeError\u001b[39m: timestamp_micros"
          ]
        }
      ],
      "source": [
        "dir(scenario_data[0].timestamp_micros)"
      ]
    },
    {
      "cell_type": "code",
      "execution_count": 26,
      "metadata": {},
      "outputs": [
        {
          "data": {
            "text/plain": [
              "waymo_open_dataset.protos.scenario_pb2.Scenario"
            ]
          },
          "execution_count": 26,
          "metadata": {},
          "output_type": "execute_result"
        }
      ],
      "source": [
        "type(scenario_data[0])"
      ]
    },
    {
      "cell_type": "code",
      "execution_count": 29,
      "metadata": {},
      "outputs": [
        {
          "data": {
            "text/plain": [
              "<function waymo_open_dataset.utils.womd_lidar_utils.augment_womd_scenario_with_lidar_points(scenario: waymo_open_dataset.protos.scenario_pb2.Scenario, lidar_data: waymo_open_dataset.protos.scenario_pb2.Scenario) -> waymo_open_dataset.protos.scenario_pb2.Scenario>"
            ]
          },
          "execution_count": 29,
          "metadata": {},
          "output_type": "execute_result"
        }
      ],
      "source": [
        "womd_lidar_utils.augment_womd_scenario_with_lidar_points"
      ]
    },
    {
      "cell_type": "code",
      "execution_count": 1,
      "metadata": {},
      "outputs": [
        {
          "name": "stderr",
          "output_type": "stream",
          "text": [
            "2025-10-03 18:46:36.870377: I tensorflow/core/platform/cpu_feature_guard.cc:182] This TensorFlow binary is optimized to use available CPU instructions in performance-critical operations.\n",
            "To enable the following instructions: AVX2 FMA, in other operations, rebuild TensorFlow with the appropriate compiler flags.\n",
            "2025-10-03 18:46:37.475352: W tensorflow/compiler/tf2tensorrt/utils/py_utils.cc:38] TF-TRT Warning: Could not find TensorRT\n"
          ]
        }
      ],
      "source": [
        "#@title Initial setup\n",
        "from typing import Optional\n",
        "import warnings\n",
        "# Disable annoying warnings from PyArrow using under the hood.\n",
        "warnings.simplefilter(action='ignore', category=FutureWarning)\n",
        "\n",
        "\n",
        "import tensorflow as tf\n",
        "import dask.dataframe as dd\n",
        "from waymo_open_dataset import v2\n",
        "\n",
        "paths = tf.io.gfile.glob(f'/home/ape/repos/road_quality/data/10017090168044687777_6380_000_6400_000.parquet')\n",
        "data = dd.read_parquet(paths)\n"
      ]
    },
    {
      "cell_type": "code",
      "execution_count": 2,
      "metadata": {},
      "outputs": [
        {
          "data": {
            "text/html": [
              "<div>\n",
              "<style scoped>\n",
              "    .dataframe tbody tr th:only-of-type {\n",
              "        vertical-align: middle;\n",
              "    }\n",
              "\n",
              "    .dataframe tbody tr th {\n",
              "        vertical-align: top;\n",
              "    }\n",
              "\n",
              "    .dataframe thead th {\n",
              "        text-align: right;\n",
              "    }\n",
              "</style>\n",
              "<table border=\"1\" class=\"dataframe\">\n",
              "  <thead>\n",
              "    <tr style=\"text-align: right;\">\n",
              "      <th></th>\n",
              "      <th>key.segment_context_name</th>\n",
              "      <th>key.frame_timestamp_micros</th>\n",
              "      <th>key.laser_name</th>\n",
              "      <th>[LiDARComponent].range_image_return1.values</th>\n",
              "      <th>[LiDARComponent].range_image_return1.shape</th>\n",
              "      <th>[LiDARComponent].range_image_return2.values</th>\n",
              "      <th>[LiDARComponent].range_image_return2.shape</th>\n",
              "    </tr>\n",
              "    <tr>\n",
              "      <th>index</th>\n",
              "      <th></th>\n",
              "      <th></th>\n",
              "      <th></th>\n",
              "      <th></th>\n",
              "      <th></th>\n",
              "      <th></th>\n",
              "      <th></th>\n",
              "    </tr>\n",
              "  </thead>\n",
              "  <tbody>\n",
              "    <tr>\n",
              "      <th>10017090168044687777_6380_000_6400_000;1550083467346370</th>\n",
              "      <td>10017090168044687777_6380_000_6400_000</td>\n",
              "      <td>1550083467346370</td>\n",
              "      <td>1</td>\n",
              "      <td>[20.885931, 0.19042969, 1.493107, -1.0, 18.936...</td>\n",
              "      <td>[64, 2650, 4]</td>\n",
              "      <td>[-1.0, -1.0, -1.0, -1.0, 21.003038, 0.14941406...</td>\n",
              "      <td>[64, 2650, 4]</td>\n",
              "    </tr>\n",
              "    <tr>\n",
              "      <th>10017090168044687777_6380_000_6400_000;1550083467346370</th>\n",
              "      <td>10017090168044687777_6380_000_6400_000</td>\n",
              "      <td>1550083467346370</td>\n",
              "      <td>2</td>\n",
              "      <td>[-1.0, -1.0, -1.0, -1.0, -1.0, -1.0, -1.0, -1....</td>\n",
              "      <td>[200, 600, 4]</td>\n",
              "      <td>[-1.0, -1.0, -1.0, -1.0, -1.0, -1.0, -1.0, -1....</td>\n",
              "      <td>[200, 600, 4]</td>\n",
              "    </tr>\n",
              "    <tr>\n",
              "      <th>10017090168044687777_6380_000_6400_000;1550083467346370</th>\n",
              "      <td>10017090168044687777_6380_000_6400_000</td>\n",
              "      <td>1550083467346370</td>\n",
              "      <td>3</td>\n",
              "      <td>[-1.0, -1.0, -1.0, -1.0, -1.0, -1.0, -1.0, -1....</td>\n",
              "      <td>[200, 600, 4]</td>\n",
              "      <td>[-1.0, -1.0, -1.0, -1.0, -1.0, -1.0, -1.0, -1....</td>\n",
              "      <td>[200, 600, 4]</td>\n",
              "    </tr>\n",
              "    <tr>\n",
              "      <th>10017090168044687777_6380_000_6400_000;1550083467346370</th>\n",
              "      <td>10017090168044687777_6380_000_6400_000</td>\n",
              "      <td>1550083467346370</td>\n",
              "      <td>4</td>\n",
              "      <td>[-1.0, -1.0, -1.0, -1.0, -1.0, -1.0, -1.0, -1....</td>\n",
              "      <td>[200, 600, 4]</td>\n",
              "      <td>[-1.0, -1.0, -1.0, -1.0, -1.0, -1.0, -1.0, -1....</td>\n",
              "      <td>[200, 600, 4]</td>\n",
              "    </tr>\n",
              "    <tr>\n",
              "      <th>10017090168044687777_6380_000_6400_000;1550083467346370</th>\n",
              "      <td>10017090168044687777_6380_000_6400_000</td>\n",
              "      <td>1550083467346370</td>\n",
              "      <td>5</td>\n",
              "      <td>[-1.0, -1.0, -1.0, -1.0, -1.0, -1.0, -1.0, -1....</td>\n",
              "      <td>[200, 600, 4]</td>\n",
              "      <td>[-1.0, -1.0, -1.0, -1.0, -1.0, -1.0, -1.0, -1....</td>\n",
              "      <td>[200, 600, 4]</td>\n",
              "    </tr>\n",
              "  </tbody>\n",
              "</table>\n",
              "</div>"
            ],
            "text/plain": [
              "                                                                  key.segment_context_name  \\\n",
              "index                                                                                        \n",
              "10017090168044687777_6380_000_6400_000;15500834...  10017090168044687777_6380_000_6400_000   \n",
              "10017090168044687777_6380_000_6400_000;15500834...  10017090168044687777_6380_000_6400_000   \n",
              "10017090168044687777_6380_000_6400_000;15500834...  10017090168044687777_6380_000_6400_000   \n",
              "10017090168044687777_6380_000_6400_000;15500834...  10017090168044687777_6380_000_6400_000   \n",
              "10017090168044687777_6380_000_6400_000;15500834...  10017090168044687777_6380_000_6400_000   \n",
              "\n",
              "                                                    key.frame_timestamp_micros  \\\n",
              "index                                                                            \n",
              "10017090168044687777_6380_000_6400_000;15500834...            1550083467346370   \n",
              "10017090168044687777_6380_000_6400_000;15500834...            1550083467346370   \n",
              "10017090168044687777_6380_000_6400_000;15500834...            1550083467346370   \n",
              "10017090168044687777_6380_000_6400_000;15500834...            1550083467346370   \n",
              "10017090168044687777_6380_000_6400_000;15500834...            1550083467346370   \n",
              "\n",
              "                                                    key.laser_name  \\\n",
              "index                                                                \n",
              "10017090168044687777_6380_000_6400_000;15500834...               1   \n",
              "10017090168044687777_6380_000_6400_000;15500834...               2   \n",
              "10017090168044687777_6380_000_6400_000;15500834...               3   \n",
              "10017090168044687777_6380_000_6400_000;15500834...               4   \n",
              "10017090168044687777_6380_000_6400_000;15500834...               5   \n",
              "\n",
              "                                                          [LiDARComponent].range_image_return1.values  \\\n",
              "index                                                                                                   \n",
              "10017090168044687777_6380_000_6400_000;15500834...  [20.885931, 0.19042969, 1.493107, -1.0, 18.936...   \n",
              "10017090168044687777_6380_000_6400_000;15500834...  [-1.0, -1.0, -1.0, -1.0, -1.0, -1.0, -1.0, -1....   \n",
              "10017090168044687777_6380_000_6400_000;15500834...  [-1.0, -1.0, -1.0, -1.0, -1.0, -1.0, -1.0, -1....   \n",
              "10017090168044687777_6380_000_6400_000;15500834...  [-1.0, -1.0, -1.0, -1.0, -1.0, -1.0, -1.0, -1....   \n",
              "10017090168044687777_6380_000_6400_000;15500834...  [-1.0, -1.0, -1.0, -1.0, -1.0, -1.0, -1.0, -1....   \n",
              "\n",
              "                                                   [LiDARComponent].range_image_return1.shape  \\\n",
              "index                                                                                           \n",
              "10017090168044687777_6380_000_6400_000;15500834...                              [64, 2650, 4]   \n",
              "10017090168044687777_6380_000_6400_000;15500834...                              [200, 600, 4]   \n",
              "10017090168044687777_6380_000_6400_000;15500834...                              [200, 600, 4]   \n",
              "10017090168044687777_6380_000_6400_000;15500834...                              [200, 600, 4]   \n",
              "10017090168044687777_6380_000_6400_000;15500834...                              [200, 600, 4]   \n",
              "\n",
              "                                                          [LiDARComponent].range_image_return2.values  \\\n",
              "index                                                                                                   \n",
              "10017090168044687777_6380_000_6400_000;15500834...  [-1.0, -1.0, -1.0, -1.0, 21.003038, 0.14941406...   \n",
              "10017090168044687777_6380_000_6400_000;15500834...  [-1.0, -1.0, -1.0, -1.0, -1.0, -1.0, -1.0, -1....   \n",
              "10017090168044687777_6380_000_6400_000;15500834...  [-1.0, -1.0, -1.0, -1.0, -1.0, -1.0, -1.0, -1....   \n",
              "10017090168044687777_6380_000_6400_000;15500834...  [-1.0, -1.0, -1.0, -1.0, -1.0, -1.0, -1.0, -1....   \n",
              "10017090168044687777_6380_000_6400_000;15500834...  [-1.0, -1.0, -1.0, -1.0, -1.0, -1.0, -1.0, -1....   \n",
              "\n",
              "                                                   [LiDARComponent].range_image_return2.shape  \n",
              "index                                                                                          \n",
              "10017090168044687777_6380_000_6400_000;15500834...                              [64, 2650, 4]  \n",
              "10017090168044687777_6380_000_6400_000;15500834...                              [200, 600, 4]  \n",
              "10017090168044687777_6380_000_6400_000;15500834...                              [200, 600, 4]  \n",
              "10017090168044687777_6380_000_6400_000;15500834...                              [200, 600, 4]  \n",
              "10017090168044687777_6380_000_6400_000;15500834...                              [200, 600, 4]  "
            ]
          },
          "execution_count": 2,
          "metadata": {},
          "output_type": "execute_result"
        }
      ],
      "source": [
        "data.head()"
      ]
    },
    {
      "cell_type": "code",
      "execution_count": 3,
      "metadata": {},
      "outputs": [
        {
          "data": {
            "text/plain": [
              "Index(['key.segment_context_name', 'key.frame_timestamp_micros',\n",
              "       'key.laser_name', '[LiDARComponent].range_image_return1.values',\n",
              "       '[LiDARComponent].range_image_return1.shape',\n",
              "       '[LiDARComponent].range_image_return2.values',\n",
              "       '[LiDARComponent].range_image_return2.shape'],\n",
              "      dtype='object')"
            ]
          },
          "execution_count": 3,
          "metadata": {},
          "output_type": "execute_result"
        }
      ],
      "source": [
        "data.columns"
      ]
    },
    {
      "cell_type": "code",
      "execution_count": 2,
      "metadata": {},
      "outputs": [],
      "source": [
        "#@title Initial setup\n",
        "from typing import Optional\n",
        "import warnings\n",
        "# Disable annoying warnings from PyArrow using under the hood.\n",
        "warnings.simplefilter(action='ignore', category=FutureWarning)\n",
        "\n",
        "\n",
        "import tensorflow as tf\n",
        "import dask.dataframe as dd\n",
        "from waymo_open_dataset import v2\n",
        "\n",
        "\n",
        "# Path to the directory with all components\n",
        "dataset_dir = '/home/ape/repos/road_quality/data/v2'\n",
        "\n",
        "context_name = '10017090168044687777_6380_000_6400_000'\n",
        "\n",
        "def read(tag: str) -> dd.DataFrame:\n",
        "  \"\"\"Creates a Dask DataFrame for the component specified by its tag.\"\"\"\n",
        "  paths = tf.io.gfile.glob(f'{dataset_dir}/{tag}/{context_name}.parquet')\n",
        "  return dd.read_parquet(paths)"
      ]
    },
    {
      "cell_type": "code",
      "execution_count": 3,
      "metadata": {},
      "outputs": [
        {
          "name": "stdout",
          "output_type": "stream",
          "text": [
            "Available 685 rows:\n",
            "context_name: 10017090168044687777_6380_000_6400_000 ts: 1550083467346370 camera_name: 1 image size: 412699 bytes. Has 5 camera labels:\n",
            "\tid: 12ba81ee-9cee-4134-94ca-df9ed01e0ff1,  center: (1466.6, 492.6) px\n",
            "\tid: 2ab9ff55-a510-435b-a729-884444e67249,  center: (1109.1, 536.9) px\n",
            "\tid: 470e3826-ecd2-425c-80ca-33f3d8c876a6,  center: (1181.7, 519.2) px\n",
            "\tid: 98fcf17a-d19e-4c3b-bbc0-54ae2d1fcc15,  center: (1006.1, 487.0) px\n",
            "\t...\n",
            "context_name: 10017090168044687777_6380_000_6400_000 ts: 1550083467346370 camera_name: 2 image size: 389779 bytes. Has 2 camera labels:\n",
            "\tid: 63c84d73-3c52-4c22-8a14-55a797622e69,  center: (1460.9, 672.6) px\n",
            "\tid: df9d5e7d-c686-4425-a227-d0299043ade8,  center: (1418.6, 752.2) px\n",
            "context_name: 10017090168044687777_6380_000_6400_000 ts: 1550083467446163 camera_name: 1 image size: 413054 bytes. Has 5 camera labels:\n",
            "\tid: 12ba81ee-9cee-4134-94ca-df9ed01e0ff1,  center: (1496.9, 485.1) px\n",
            "\tid: 2ab9ff55-a510-435b-a729-884444e67249,  center: (1131.8, 535.0) px\n",
            "\tid: 470e3826-ecd2-425c-80ca-33f3d8c876a6,  center: (1208.2, 515.4) px\n",
            "\tid: 98fcf17a-d19e-4c3b-bbc0-54ae2d1fcc15,  center: (1028.9, 492.6) px\n",
            "\t...\n",
            "context_name: 10017090168044687777_6380_000_6400_000 ts: 1550083467446163 camera_name: 2 image size: 388166 bytes. Has 2 camera labels:\n",
            "\tid: 63c84d73-3c52-4c22-8a14-55a797622e69,  center: (1459.0, 676.4) px\n",
            "\tid: df9d5e7d-c686-4425-a227-d0299043ade8,  center: (1402.8, 750.3) px\n",
            "...\n"
          ]
        }
      ],
      "source": [
        "# @title Basic Example (Camera images with labels)\n",
        "\n",
        "# Lazily read camera images and boxes \n",
        "cam_image_df = read('camera_image')\n",
        "cam_box_df = read('camera_box')\n",
        "\n",
        "# Combine DataFrame for individual components into a single DataFrame.\n",
        "\n",
        "# Camera cam_box_df will be grouped, so each row will have a camera image\n",
        "# and all associated boxes.\n",
        "image_w_box_df = v2.merge(cam_image_df, cam_box_df, right_group=True)\n",
        "\n",
        "# Show raw data\n",
        "image_w_box_df.head()\n",
        "\n",
        "# Example how to access data fields via v2 object-oriented API\n",
        "print(f'Available {image_w_box_df.shape[0].compute()} rows:')\n",
        "for i, (_, r) in enumerate(image_w_box_df.iterrows()):\n",
        "  # Create component dataclasses for the raw data\n",
        "  cam_image = v2.CameraImageComponent.from_dict(r)\n",
        "  cam_box = v2.CameraBoxComponent.from_dict(r)\n",
        "  print(\n",
        "      f'context_name: {cam_image.key.segment_context_name}'\n",
        "      f' ts: {cam_image.key.frame_timestamp_micros}'\n",
        "      f' camera_name: {cam_image.key.camera_name}'\n",
        "      f' image size: {len(cam_image.image)} bytes.'\n",
        "      f' Has {len(cam_box.key.camera_object_id)} camera labels:'\n",
        "  )\n",
        "\n",
        "  for j, (object_id, x, y) in enumerate(zip(\n",
        "      cam_box.key.camera_object_id, cam_box.box.center.x, cam_box.box.center.y\n",
        "  )):\n",
        "    print(f'\\tid: {object_id},  center: ({x:.1f}, {y:.1f}) px')\n",
        "    if j > 2:\n",
        "      print('\\t...')\n",
        "      break\n",
        "  if i > 2:\n",
        "    print('...')\n",
        "    break"
      ]
    },
    {
      "cell_type": "code",
      "execution_count": 4,
      "metadata": {},
      "outputs": [
        {
          "name": "stdout",
          "output_type": "stream",
          "text": [
            "Object lidar_box.key.laser_object_id='0QXtLAoMcF26x6k0m-7gVQ' seen on 198 frames\n",
            "Its trajectory across frames:\n",
            "\tlidar_box.box.center.x=[31.960473150901407, 31.398161404554912, 30.771275060649486, 30.154010823531507, 29.546898993095738, 28.93718751125334, 28.3313341367425, 27.73340217996747, 27.144020457655415, 26.551439169952346, 25.96802233992412, 25.405489601466797, 24.843880380552946, 24.277074372880634, 23.713582923485774, 23.165448888217497, 22.614864031012075, 22.0539553172448, 21.492416694230087, 20.940051722913267, 20.392317597087413, 19.8525902326096, 19.3249809029885, 18.801231114375923, 18.268838220510133, 17.73669772888752, 17.222987764689833, 16.71800649605666, 16.209799339130313, 15.698476130384961, 15.189663256075164, 14.69183267696667, 14.200386668905594, 13.704296045105366, 13.207701320936621, 12.72017775356312, 12.24114945589099, 11.768598933188969, 11.294816419192557, 10.82444727476377, 10.362465998811103, 9.903456855454124, 9.452072930530903, 9.00614593535397, 8.562540343596766, 8.07754521126094, 7.641214742976899, 7.206669674169689, 6.775805989458604, 6.341636575215148, 5.904667715986989, 5.465178099803893, 5.025214790999485, 4.584505403452795, 4.1392463374269255, 3.6932707370867206, 3.2499300466338354, 2.807458510424169, 2.359475670804045, 1.9098503664992421, 1.4607823442674395, 1.014465646910267, 0.566340394597205, 0.11770702564652424, -0.330583716309377, -0.7797182917946088, -1.2285366449938806, -1.6793575498457471, -2.1284995371946707, -2.574227108716343, -3.0119531548207874, -3.4456883131849168, -3.8781633878828643, -4.311631241593034, -4.742339128302035, -5.168685512547029, -5.592251163203116, -6.014070483217154, -6.435086822079143, -6.861099022747624, -7.28221157957455, -7.695660472083091, -8.10849445360418, -8.526461787845733, -8.952785733734117, -9.387639636950098, -9.834697940707883, -10.29332575668127, -10.756374360904942, -11.22135845678298, -11.68828766638535, -12.162869235535254, -12.640617265971628, -13.120086386960907, -13.604309762724142, -14.098071817345499, -14.59942792957088, -15.111818836671205, -15.630527173102564, -16.152307438621733, -16.676378482906102, -17.20785741841098, -17.748953277667397, -18.29849069613408, -18.854628355709224, -19.41734793249566, -19.982713601156206, -20.559150770216547, -21.145355472918368, -21.73439841202753, -22.326738326904774, -22.926869412469955, -23.532301664647207, -24.14298870983555, -24.76013854174755, -25.38304463324323, -26.006243727814763, -26.630473096755622, -27.260929968149412, -27.896228675271914, -28.537376032037514, -29.18006501462105, -29.82448416239538, -30.46760738748344, -31.116193059733064, -31.7706903249657, -32.43042816271122, -33.096442272650904, -33.76524340658216, -34.43346656786713, -35.102449567250005, -35.7716184012923, -36.44298310982174, -37.120356875520656, -37.802970731606365, -38.484257173547235, -39.16856215958575, -39.8527390085635, -40.53553231964895, -41.21888492510783, -41.901658397829124, -42.58421898541718, -43.264218202749646, -43.93660013971936, -44.60397081793411, -45.27047043109479, -45.93520252707776, -46.60079212590932, -47.26335891333315, -47.92293681342011, -48.57919966205458, -49.230105622677456, -49.877659321213514, -50.52330842584189, -51.16484573462486, -51.809076733853544, -52.45508764785785, -53.10249059430788, -53.76045724011482, -54.418560282696944, -55.07808749267883, -55.734490958968706, -56.38533036982108, -57.03368625213551, -57.68145644649536, -58.32826059008272, -58.98506537377045, -59.64523443545943, -60.302334675339864, -60.95365273443525, -61.59626958917693, -62.23520435641694, -62.877720980990716, -63.530578478515736, -64.18289890828538, -64.82820749353988, -65.46591075114094, -66.10008871916989, -66.73050808020076, -67.34585215161093, -67.95431594507318, -68.56392272863133, -69.17327550543285, -69.77423235611974, -70.36449445276372, -70.94371864466552, -71.51382601323627, -72.07637644300087, -72.63024829905777, -73.17340068761024, -73.70588211654592, -74.22965736476203, -74.7432660301289, -75.24556862168237, -75.73698120166165, -76.22345649627158, -76.70156422011945, -77.1757076583998]\n",
            "\tlidar_box.box.center.y=[-2.3544329310025205, -2.6380244626361673, -2.9129232167597365, -3.1596208959945216, -3.3779696333913307, -3.5641709151968826, -3.7023461883982236, -3.790962113011119, -3.8626475813780417, -3.9430816673175286, -4.022590543159822, -4.059394269421318, -4.067396770076812, -4.077158868471088, -4.0908967240739, -4.0989702687147656, -4.114447523512354, -4.145756485882885, -4.161307837866843, -4.159459536536815, -4.166859546832711, -4.16228173271702, -4.157837429731444, -4.148505790326453, -4.14785127250434, -4.145240825822839, -4.130379162523241, -4.123581408211976, -4.110140484126532, -4.084727246134207, -4.046673428361828, -3.994131258163179, -3.9356884523713234, -3.897691612213748, -3.8702531326998724, -3.8305783044343116, -3.775660893003078, -3.7192932881007437, -3.6768307204820303, -3.638449388789013, -3.6002976780637255, -3.5628408896081964, -3.5186011460809823, -3.468565840892552, -3.417776147589393, -3.3631299422922893, -3.313094213955992, -3.2637100548436138, -3.2090316698922834, -3.1600564480013418, -3.120158578718474, -3.0855864110271796, -3.0522356415785907, -3.0191644447004364, -2.9871618451597897, -2.9574438108065806, -2.9298394271318102, -2.9067045295196294, -2.8894806206444628, -2.877357090044825, -2.8691013864863635, -2.8614313979614963, -2.853372356170439, -2.8509257864552637, -2.852157990948399, -2.853929827850152, -2.8575212317118712, -2.860597524459081, -2.862202184416674, -2.8647655787899566, -2.869399856943346, -2.872057839687841, -2.8750772529929236, -2.8688892991449393, -2.869192245594604, -2.8725157898079487, -2.8761322342106723, -2.8822805576674, -2.8877894887755247, -2.8877763913096715, -2.8834665401536768, -2.889132421825707, -2.8966138574705838, -2.8955116807683225, -2.888428955242489, -2.8907102637076605, -2.8931783480020385, -2.881430322151573, -2.8782403237200924, -2.8808644448872656, -2.882298403650566, -2.866557083221778, -2.861506411783921, -2.8641874708755495, -2.8649651813739183, -2.878638210706413, -2.896406894471511, -2.923636037203323, -2.9626180113846203, -3.0056978009906743, -3.0467083702351374, -3.0826837251497636, -3.1134587173364707, -3.1629484746790695, -3.214134127536454, -3.2519128881049255, -3.2931000909247814, -3.2809152277095563, -3.237718656715515, -3.2128093613646342, -3.201803987920357, -3.187541890098146, -3.1784788647109963, -3.1725292610808538, -3.1484133541634947, -3.1120046121286578, -3.0827295358431, -3.0725355564500205, -3.062068802804788, -3.0519721138316527, -3.02425796436728, -2.9967528002944164, -2.9775213606753823, -2.9690457566539408, -2.943606520735557, -2.9320174001422856, -2.934658000460331, -2.913036569574615, -2.8726662140961707, -2.847436661433676, -2.8275120999005594, -2.821237345593545, -2.8347609383163217, -2.819778963284989, -2.7950821348167665, -2.807964967079897, -2.792297353631511, -2.7515374605991383, -2.7281086903785763, -2.7173318257609935, -2.7117841049639537, -2.702164924254248, -2.6354666604293016, -2.544555713513546, -2.5232989325450035, -2.5371611450846103, -2.510573765695881, -2.4312676831650606, -2.3490744446316967, -2.3183118919678236, -2.3272110404795967, -2.3684281719251885, -2.4151381520223367, -2.383428032613665, -2.3080469429787627, -2.317707220954617, -2.3395720864536997, -2.3107914766042086, -2.303047381943543, -2.338369804276226, -2.304049736376328, -2.244699805549317, -2.2431971676196554, -2.2229329048386717, -2.181647111177881, -2.1851676150690764, -2.183693849883639, -2.1271428336767713, -2.0701478131159092, -2.0545987648183655, -2.117714593136043, -2.131982568123931, -2.0963259817908693, -2.1042745248814754, -2.198357187657166, -2.25938518806106, -2.238110014994163, -2.1729247466773813, -2.144800267622486, -2.16161522315997, -2.158136045833089, -2.1215660532398033, -2.0940127620433486, -2.097587339269012, -2.1494149981499504, -2.2030693097403855, -2.2036974020174966, -2.166486079837341, -2.1586771884012705, -2.2506613458426727, -2.322355547958068, -2.336000422019424, -2.3846181124881696, -2.5449616671521653, -2.662702059975345, -2.7025454388804064, -2.7683938815916918, -2.8739769709263783]\n",
            "\tlidar_box.box.center.z=[3.8066265057276496, 3.7762762226297326, 3.7866489324059387, 3.740959821823168, 3.6163175065564417, 3.5559191075136027, 3.5599461716102496, 3.5560662063807627, 3.5203950899849588, 3.516094845153873, 3.4470198206899454, 3.3006109607549092, 3.220708346186541, 3.209944552065849, 3.192281223148882, 3.0803461940549823, 3.010932549647009, 3.0334994438748026, 3.0920056224191512, 3.094629129426494, 3.038858956037984, 2.951616949464892, 2.7539089729558555, 2.5397819957991032, 2.4192478488968163, 2.3272012259861867, 2.137248205884646, 1.852545433615262, 1.6090367842627984, 1.449087275839446, 1.3419894783312003, 1.2572706275076797, 1.2229756505054752, 1.2023036400644003, 1.1746986196042712, 1.1545081967676083, 1.1441025733460322, 1.1679197820954528, 1.2018680447086183, 1.2059207171528783, 1.1900160817858705, 1.144118505899371, 1.1037624554718946, 1.0972064072155945, 1.1152414151304129, 1.1406311693464204, 1.1391701740801636, 1.1564903375953008, 1.1836377396561488, 1.2141922946570958, 1.2425296608399776, 1.2604520970517115, 1.2872950571156707, 1.3134663896512393, 1.3337453908987982, 1.3459789786078318, 1.351342065783797, 1.350160134492512, 1.349854151573254, 1.3380171301156452, 1.3298406460229444, 1.3338865041209829, 1.3342015520119048, 1.3375508789655441, 1.3325367314777168, 1.3340381090005167, 1.32756588258394, 1.32014691363662, 1.3054338178554303, 1.2981983675279025, 1.308540159532697, 1.3149195320593208, 1.3201405421874597, 1.2994376409937445, 1.290626513980726, 1.286031979259235, 1.2940462699642126, 1.2979098400529665, 1.2794201450518585, 1.2832924088970685, 1.333842953940291, 1.4391188314849614, 1.5344850328859252, 1.5908279729442825, 1.6034446000559228, 1.5436629848292682, 1.4378191755927787, 1.2713557343905677, 1.041000910730986, 0.8106985001392673, 0.7279373240151585, 0.7954335694830093, 0.9743063600827213, 1.1881981246717714, 1.346634460842779, 1.4449756081943974, 1.4351722398042739, 1.3229625601953217, 1.22265649832093, 1.2210299426840265, 1.30575366246984, 1.3706803157400032, 1.3173417142670587, 1.2009093081074411, 1.1432279592597752, 1.1638271438357037, 1.243797363531769, 1.3172680487726893, 1.351741383591218, 1.3611366697080598, 1.344257311296019, 1.27222422378793, 1.1309544196376464, 0.9921994554240428, 0.9027309691074947, 0.9505016790629384, 1.1060647414996083, 1.2430919926352715, 1.2479133280093322, 1.190540026386202, 1.1170591279928033, 1.1260815544814022, 1.2514427245123727, 1.4331057001733143, 1.539329548852777, 1.50420623129898, 1.299524531239257, 1.0234786021226796, 0.8122035207881027, 0.8024931818989387, 0.9899557131109304, 1.2245045400426875, 1.3684730528511295, 1.3468825171645165, 1.2083419598792773, 1.1208266068941555, 1.1395488104708704, 1.2577114695792346, 1.2952045545536777, 1.182698175175986, 1.0791788069201402, 1.1360360470867477, 1.4302792891771219, 1.8633655363717665, 2.116014165933322, 2.252494430949767, 2.4371822882355048, 2.572504004694707, 2.6983966926766243, 2.7580672168044362, 2.7419082111690507, 2.7655728649591005, 2.8449074977137627, 2.961266248665538, 3.1313709452080616, 3.1296307437083044, 3.066551424496737, 3.036054144064849, 2.734908006305119, 2.3119060550586994, 1.9234988868257403, 1.602850257937348, 1.5494465490921527, 1.852401712688561, 2.1289231853224067, 2.2874674587920367, 2.1635851568676117, 1.9932002634915875, 1.9390582034973818, 2.05563162008562, 2.3033866644926206, 2.622092350784925, 2.7677823034259177, 2.4553145222124044, 1.832831196488641, 1.1010290811523475, 0.502275069792887, 0.3968283653779281, 0.8818932590562127, 1.551848620103982, 1.969857153465938, 2.014230432222263, 1.6507129660895998, 1.251191026011071, 0.9676581266619877, 1.075627012497904, 1.365952713154826, 1.51134943080433, 1.4681368791347325, 1.3445212248461473, 1.3551180211535154, 1.321532225042489, 1.2418590977125064, 1.1604245197798946, 1.2698730521216817, 1.4727423455299231, 1.507450992124319, 1.3135041015925708]\n"
          ]
        }
      ],
      "source": [
        "\n",
        "# Lazily read lidar boxes\n",
        "lidar_box_df = read('lidar_box')\n",
        "# Group all available boxes per object\n",
        "lidar_box_df = (\n",
        "    lidar_box_df.groupby(['key.segment_context_name', 'key.laser_object_id'])\n",
        "    .agg(list)\n",
        "    .reset_index()\n",
        ")\n",
        "\n",
        "\n",
        "# Read a single row, which contains data for all available frames.\n",
        "_, row = next(iter(lidar_box_df.iterrows()))\n",
        "\n",
        "# Create component object\n",
        "lidar_box = v2.LiDARBoxComponent.from_dict(row)\n",
        "print(\n",
        "    f'Object {lidar_box.key.laser_object_id=} seen on'\n",
        "    f' {len(lidar_box.key.frame_timestamp_micros)} frames'\n",
        ")\n",
        "print('Its trajectory across frames:')\n",
        "print(f'\\t{lidar_box.box.center.x=}')\n",
        "print(f'\\t{lidar_box.box.center.y=}')\n",
        "print(f'\\t{lidar_box.box.center.z=}')"
      ]
    },
    {
      "cell_type": "code",
      "execution_count": 5,
      "metadata": {},
      "outputs": [],
      "source": [
        "#@title Sensor data with both lidar and camera boxes\n",
        "\n",
        "# Lazily read DataFrames for all components.\n",
        "association_df = read('camera_to_lidar_box_association')\n",
        "cam_box_df = read('camera_box')\n",
        "cam_img_df = read('camera_image')\n",
        "lidar_box_df = read('lidar_box')\n",
        "lidar_df = read('lidar')\n",
        "\n",
        "# Join all DataFrames using matching columns\n",
        "cam_image_w_box_df = v2.merge(cam_box_df, cam_img_df)\n",
        "cam_obj_df = v2.merge(association_df, cam_image_w_box_df)\n",
        "obj_df = v2.merge(cam_obj_df, lidar_box_df)\n",
        "# Group lidar sensors (left), group labels and camera images (right) and join.\n",
        "df = v2.merge(lidar_df, obj_df, left_group=True, right_group=True)\n",
        "\n",
        "# # Read a single row, which contain data for all data for a single frame.\n",
        "# _, row = next(iter(df.iterrows()))\n",
        "# # Create all component objects\n",
        "# camera_image = v2.CameraImageComponent.from_dict(row)\n",
        "# lidar = v2.LiDARComponent.from_dict(row)\n",
        "# camera_box = v2.CameraBoxComponent.from_dict(row)\n",
        "# lidar_box = v2.LiDARBoxComponent.from_dict(row)\n",
        "\n",
        "# print(\n",
        "#     f'Found {len(lidar_box.key.laser_object_id)} objects on'\n",
        "#     f' {lidar.key.segment_context_name=} {lidar.key.frame_timestamp_micros=}'\n",
        "# )\n",
        "# for laser_object_id, camera_object_id, camera_name in zip(\n",
        "#     lidar_box.key.laser_object_id,\n",
        "#     camera_box.key.camera_object_id,\n",
        "#     camera_image.key.camera_name,\n",
        "# ):\n",
        "#   print(f'\\t{laser_object_id=} {camera_object_id=} {camera_name=}')"
      ]
    },
    {
      "cell_type": "code",
      "execution_count": 13,
      "metadata": {},
      "outputs": [
        {
          "data": {
            "text/plain": [
              "(678400,)"
            ]
          },
          "execution_count": 13,
          "metadata": {},
          "output_type": "execute_result"
        }
      ],
      "source": [
        "lidar_df['[LiDARComponent].range_image_return1.values'].head()[0].shape"
      ]
    },
    {
      "cell_type": "code",
      "execution_count": 18,
      "metadata": {},
      "outputs": [],
      "source": [
        "_, row = next(iter(lidar_df.iterrows()))\n",
        "\n",
        "lidar = v2.LiDARComponent.from_dict(row)\n"
      ]
    },
    {
      "cell_type": "code",
      "execution_count": 20,
      "metadata": {},
      "outputs": [
        {
          "data": {
            "text/plain": [
              "['__annotations__',\n",
              " '__class__',\n",
              " '__dataclass_fields__',\n",
              " '__dataclass_params__',\n",
              " '__delattr__',\n",
              " '__dict__',\n",
              " '__dir__',\n",
              " '__doc__',\n",
              " '__eq__',\n",
              " '__format__',\n",
              " '__ge__',\n",
              " '__getattribute__',\n",
              " '__gt__',\n",
              " '__hash__',\n",
              " '__init__',\n",
              " '__init_subclass__',\n",
              " '__le__',\n",
              " '__lt__',\n",
              " '__match_args__',\n",
              " '__module__',\n",
              " '__ne__',\n",
              " '__new__',\n",
              " '__reduce__',\n",
              " '__reduce_ex__',\n",
              " '__repr__',\n",
              " '__setattr__',\n",
              " '__sizeof__',\n",
              " '__str__',\n",
              " '__subclasshook__',\n",
              " '__weakref__',\n",
              " 'shape',\n",
              " 'tensor',\n",
              " 'values']"
            ]
          },
          "execution_count": 20,
          "metadata": {},
          "output_type": "execute_result"
        }
      ],
      "source": [
        "dir(lidar.range_image_return1)"
      ]
    },
    {
      "cell_type": "code",
      "execution_count": 18,
      "metadata": {},
      "outputs": [
        {
          "ename": "",
          "evalue": "",
          "output_type": "error",
          "traceback": [
            "\u001b[1;31mThe Kernel crashed while executing code in the current cell or a previous cell. \n",
            "\u001b[1;31mPlease review the code in the cell(s) to identify a possible cause of the failure. \n",
            "\u001b[1;31mClick <a href='https://aka.ms/vscodeJupyterKernelCrash'>here</a> for more info. \n",
            "\u001b[1;31mView Jupyter <a href='command:jupyter.viewOutput'>log</a> for further details."
          ]
        }
      ],
      "source": [
        "# @title Sensor data with lidar and camera boxes if available\n",
        "\n",
        "# Lazily read DataFrames for all components.\n",
        "association_df = read('camera_to_lidar_box_association')\n",
        "cam_box_df = read('camera_box')\n",
        "cam_img_df = read('camera_image')\n",
        "lidar_box_df = read('lidar_box')\n",
        "lidar_df = read('lidar')\n",
        "\n",
        "# Join all DataFrames using matching columns\n",
        "cam_image_w_box_df = v2.merge(cam_box_df, cam_img_df)\n",
        "cam_obj_df = v2.merge(association_df, cam_image_w_box_df)\n",
        "# In this example camera box labels are optional, so we set left_nullable=True.\n",
        "obj_df = v2.merge(cam_obj_df, lidar_box_df, left_nullable=True)\n",
        "# Group lidar sensors (left), group labels and camera images (right) and join.\n",
        "df = v2.merge(lidar_df, obj_df, left_group=True, right_group=True)\n",
        "\n",
        "# Read a single row, which contain data for all data for a single frame.\n",
        "_, row = next(iter(df.iterrows()))\n",
        "# Create all component objects\n",
        "camera_image = v2.CameraImageComponent.from_dict(row)\n",
        "lidar = v2.LiDARComponent.from_dict(row)\n",
        "camera_box = v2.CameraBoxComponent.from_dict(row)\n",
        "lidar_box = v2.LiDARBoxComponent.from_dict(row)\n",
        "\n",
        "print(\n",
        "    f'Found {len(lidar_box.key.laser_object_id)} objects on'\n",
        "    f' {lidar.key.segment_context_name=} {lidar.key.frame_timestamp_micros=}'\n",
        ")\n",
        "for laser_object_id, camera_object_id, camera_name in zip(\n",
        "    lidar_box.key.laser_object_id,\n",
        "    camera_box.key.camera_object_id,\n",
        "    camera_image.key.camera_name,\n",
        "):\n",
        "  print(f'\\t{laser_object_id=} {camera_object_id=} {camera_name=}')"
      ]
    },
    {
      "cell_type": "code",
      "execution_count": null,
      "metadata": {},
      "outputs": [],
      "source": []
    }
  ],
  "metadata": {
    "kernelspec": {
      "display_name": "waymo",
      "language": "python",
      "name": "python3"
    },
    "language_info": {
      "codemirror_mode": {
        "name": "ipython",
        "version": 3
      },
      "file_extension": ".py",
      "mimetype": "text/x-python",
      "name": "python",
      "nbconvert_exporter": "python",
      "pygments_lexer": "ipython3",
      "version": "3.10.18"
    }
  },
  "nbformat": 4,
  "nbformat_minor": 2
}
