{
 "cells": [
  {
   "cell_type": "code",
   "execution_count": 2,
   "id": "66da8a3b",
   "metadata": {},
   "outputs": [],
   "source": [
    "\n",
    "import os\n",
    "from typing import List, Dict, Tuple, Optional, Any\n",
    "\n",
    "import numpy as np\n",
    "import tensorflow as tf\n",
    "# tf.enable_eager_execution()\n",
    "\n",
    "from waymo_open_dataset import dataset_pb2\n",
    "from waymo_open_dataset.protos import scenario_pb2\n",
    "from waymo_open_dataset.protos import compressed_lidar_pb2\n",
    "from waymo_open_dataset.utils import womd_lidar_utils"
   ]
  },
  {
   "cell_type": "code",
   "execution_count": 5,
   "id": "1c4a83b7",
   "metadata": {},
   "outputs": [
    {
     "name": "stdout",
     "output_type": "stream",
     "text": [
      "53e9adfdac0eb822\n"
     ]
    }
   ],
   "source": [
    "\n",
    "def _load_scenario_data(tfrecord_file: str) -> scenario_pb2.Scenario:\n",
    "  \"\"\"Load a scenario proto from a tfrecord dataset file.\"\"\"\n",
    "  dataset = tf.data.TFRecordDataset(tfrecord_file, compression_type='')\n",
    "  data = next(iter(dataset))\n",
    "  return scenario_pb2.Scenario.FromString(data.numpy())\n",
    "\n",
    "WOMD_FILE = 'data/training_20s.tfrecord-00000-of-01000'\n",
    "womd_original_scenario = _load_scenario_data(WOMD_FILE)\n",
    "print(womd_original_scenario.scenario_id)"
   ]
  },
  {
   "cell_type": "code",
   "execution_count": 6,
   "id": "166ee5e2",
   "metadata": {},
   "outputs": [
    {
     "ename": "NameError",
     "evalue": "name 'scenario_augmented' is not defined",
     "output_type": "error",
     "traceback": [
      "\u001b[31m---------------------------------------------------------------------------\u001b[39m",
      "\u001b[31mNameError\u001b[39m                                 Traceback (most recent call last)",
      "\u001b[36mCell\u001b[39m\u001b[36m \u001b[39m\u001b[32mIn[6]\u001b[39m\u001b[32m, line 15\u001b[39m\n\u001b[32m     11\u001b[39m   \u001b[38;5;28;01mreturn\u001b[39;00m \u001b[38;5;28;01mNone\u001b[39;00m\n\u001b[32m     13\u001b[39m \u001b[38;5;66;03m# Extract point cloud xyz and features from each LiDAR and merge them for each\u001b[39;00m\n\u001b[32m     14\u001b[39m \u001b[38;5;66;03m# laser frame in the scenario proto.\u001b[39;00m\n\u001b[32m---> \u001b[39m\u001b[32m15\u001b[39m \u001b[38;5;28;01mfor\u001b[39;00m frame_lasers \u001b[38;5;129;01min\u001b[39;00m \u001b[43mscenario_augmented\u001b[49m.compressed_frame_laser_data:\n\u001b[32m     16\u001b[39m   points_xyz_list = []\n\u001b[32m     17\u001b[39m   points_feature_list = []\n",
      "\u001b[31mNameError\u001b[39m: name 'scenario_augmented' is not defined"
     ]
    }
   ],
   "source": [
    "\n",
    "frame_points_xyz = {}  # map from frame indices to point clouds\n",
    "frame_points_feature = {}\n",
    "frame_i = 0\n",
    "\n",
    "def _get_laser_calib(\n",
    "    frame_lasers: compressed_lidar_pb2.CompressedFrameLaserData,\n",
    "    laser_name: dataset_pb2.LaserName.Name):\n",
    "  for laser_calib in frame_lasers.laser_calibrations:\n",
    "    if laser_calib.name == laser_name:\n",
    "      return laser_calib\n",
    "  return None\n",
    "\n",
    "# Extract point cloud xyz and features from each LiDAR and merge them for each\n",
    "# laser frame in the scenario proto.\n",
    "for frame_lasers in scenario_augmented.compressed_frame_laser_data:\n",
    "  points_xyz_list = []\n",
    "  points_feature_list = []\n",
    "  frame_pose = np.reshape(np.array(\n",
    "      scenario_augmented.compressed_frame_laser_data[frame_i].pose.transform),\n",
    "      (4, 4))\n",
    "  for laser in frame_lasers.lasers:\n",
    "    if laser.name == dataset_pb2.LaserName.TOP:\n",
    "      c = _get_laser_calib(frame_lasers, laser.name)\n",
    "      (points_xyz, points_feature,\n",
    "       points_xyz_return2,\n",
    "       points_feature_return2) = womd_lidar_utils.extract_top_lidar_points(\n",
    "           laser, frame_pose, c)\n",
    "    else:\n",
    "      c = _get_laser_calib(frame_lasers, laser.name)\n",
    "      (points_xyz, points_feature,\n",
    "       points_xyz_return2,\n",
    "       points_feature_return2) = womd_lidar_utils.extract_side_lidar_points(\n",
    "           laser, c)\n",
    "    points_xyz_list.append(points_xyz.numpy())\n",
    "    points_xyz_list.append(points_xyz_return2.numpy())\n",
    "    points_feature_list.append(points_feature.numpy())\n",
    "    points_feature_list.append(points_feature_return2.numpy())\n",
    "  frame_points_xyz[frame_i] = np.concatenate(points_xyz_list, axis=0)\n",
    "  frame_points_feature[frame_i] = np.concatenate(points_feature_list, axis=0)\n",
    "  frame_i += 1"
   ]
  },
  {
   "cell_type": "code",
   "execution_count": null,
   "id": "a60b6b8a",
   "metadata": {},
   "outputs": [],
   "source": []
  }
 ],
 "metadata": {
  "kernelspec": {
   "display_name": "road-quality",
   "language": "python",
   "name": "python3"
  },
  "language_info": {
   "codemirror_mode": {
    "name": "ipython",
    "version": 3
   },
   "file_extension": ".py",
   "mimetype": "text/x-python",
   "name": "python",
   "nbconvert_exporter": "python",
   "pygments_lexer": "ipython3",
   "version": "3.11.10"
  }
 },
 "nbformat": 4,
 "nbformat_minor": 5
}
